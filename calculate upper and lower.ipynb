{
 "cells": [
  {
   "cell_type": "code",
   "execution_count": 1,
   "id": "e65f837e",
   "metadata": {},
   "outputs": [
    {
     "name": "stdout",
     "output_type": "stream",
     "text": [
      "enter stringThe quick Brow Fox\n",
      "the total number of upper case is :  3\n",
      "the total number of lower case is :  12\n"
     ]
    }
   ],
   "source": [
    "'''Write a Python function that accepts a string and calculate the number of upper case letters and lower case letters.\n",
    "﻿Sample String : 'The quick Brow Fox'\n",
    "Expected Output :\n",
    "No. of Upper case characters : 3\n",
    "No. of Lower case Characters : 12'''\n",
    "\n",
    "lst = input(\"enter string\")\n",
    "upper = 0\n",
    "lower = 0\n",
    "for i in lst:\n",
    "    if ord(i) >=60 and ord(i) <=91:\n",
    "        upper = upper+1\n",
    "    elif ord(i) >=96 and ord(i) <=122:\n",
    "        lower = lower+1\n",
    "print(\"the total number of upper case is : \" , upper )\n",
    "print(\"the total number of lower case is : \" , lower )"
   ]
  },
  {
   "cell_type": "code",
   "execution_count": null,
   "id": "1bd73fac",
   "metadata": {},
   "outputs": [],
   "source": []
  }
 ],
 "metadata": {
  "kernelspec": {
   "display_name": "Python 3 (ipykernel)",
   "language": "python",
   "name": "python3"
  },
  "language_info": {
   "codemirror_mode": {
    "name": "ipython",
    "version": 3
   },
   "file_extension": ".py",
   "mimetype": "text/x-python",
   "name": "python",
   "nbconvert_exporter": "python",
   "pygments_lexer": "ipython3",
   "version": "3.9.12"
  }
 },
 "nbformat": 4,
 "nbformat_minor": 5
}
